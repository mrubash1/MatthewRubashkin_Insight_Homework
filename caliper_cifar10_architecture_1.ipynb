{
  "nbformat": 4,
  "nbformat_minor": 0,
  "metadata": {
    "colab": {
      "name": "caliper_cifar10_architecture_1.ipynb",
      "version": "0.3.2",
      "provenance": [],
      "collapsed_sections": [],
      "include_colab_link": true
    },
    "kernelspec": {
      "name": "python3",
      "display_name": "Python 3"
    },
    "accelerator": "GPU"
  },
  "cells": [
    {
      "cell_type": "markdown",
      "metadata": {
        "id": "view-in-github",
        "colab_type": "text"
      },
      "source": [
        "<a href=\"https://colab.research.google.com/github/mrubash1/MatthewRubashkin_Insight_Homework/blob/master/caliper_cifar10_architecture_1.ipynb\" target=\"_parent\"><img src=\"https://colab.research.google.com/assets/colab-badge.svg\" alt=\"Open In Colab\"/></a>"
      ]
    },
    {
      "cell_type": "markdown",
      "metadata": {
        "id": "TI1Qe86sem8y",
        "colab_type": "text"
      },
      "source": [
        "To connect to a GPU runtime for faster training (highly recommended):\n",
        "1. Go to Runtime > Change runtime type from topbar.\n",
        "1. Select GPU from the Hardware accelerator dropdown list."
      ]
    },
    {
      "cell_type": "code",
      "metadata": {
        "id": "OIlDSqXu-QCi",
        "colab_type": "code",
        "cellView": "form",
        "outputId": "15384983-78ee-4321-f3c8-80ca1030c3f4",
        "colab": {
          "base_uri": "https://localhost:8080/",
          "height": 34
        }
      },
      "source": [
        "#@title Set Caliper credentials (Paste this notebook's URL here)\n",
        "############################################################\n",
        "##            DON'T EDIT CODE IN THIS CELL                ##\n",
        "############################################################\n",
        "NOTEBOOK_URL = \"https://colab.research.google.com/drive/1NQaABGIfTd_VO6cAjivaCd8kyRtm8NaK#scrollTo=OIlDSqXu-QCi\" #@param {type:\"string\"}\n",
        "import urllib\n",
        "parsed = urllib.parse.urlparse(NOTEBOOK_URL)\n",
        "try:\n",
        "  caliper_token = urllib.parse.parse_qs(parsed.query)['auth_token'][0]\n",
        "  challenge_id = urllib.parse.parse_qs(parsed.query)['challenge_id'][0]\n",
        "  phase_id = urllib.parse.parse_qs(parsed.query)['phase_id'][0]\n",
        "except:\n",
        "  print(\"Some error occured in parsing the pasted URL.\")\n",
        "############################################################\n",
        "##            DON'T EDIT CODE IN THIS CELL                ##\n",
        "############################################################"
      ],
      "execution_count": 0,
      "outputs": [
        {
          "output_type": "stream",
          "text": [
            "Some error occured in parsing the pasted URL.\n"
          ],
          "name": "stdout"
        }
      ]
    },
    {
      "cell_type": "code",
      "metadata": {
        "id": "rb1kqeReyPiM",
        "colab_type": "code",
        "cellView": "form",
        "outputId": "f85b1e83-457f-4437-d052-e01e57502c4c",
        "colab": {
          "base_uri": "https://localhost:8080/",
          "height": 153
        }
      },
      "source": [
        "#@title Install PyTorch\n",
        "\n",
        "!pip install torch\n",
        "!pip install torchvision"
      ],
      "execution_count": 0,
      "outputs": [
        {
          "output_type": "stream",
          "text": [
            "Requirement already satisfied: torch in /usr/local/lib/python3.6/dist-packages (1.1.0)\n",
            "Requirement already satisfied: numpy in /usr/local/lib/python3.6/dist-packages (from torch) (1.16.4)\n",
            "Requirement already satisfied: torchvision in /usr/local/lib/python3.6/dist-packages (0.3.0)\n",
            "Requirement already satisfied: numpy in /usr/local/lib/python3.6/dist-packages (from torchvision) (1.16.4)\n",
            "Requirement already satisfied: torch>=1.1.0 in /usr/local/lib/python3.6/dist-packages (from torchvision) (1.1.0)\n",
            "Requirement already satisfied: six in /usr/local/lib/python3.6/dist-packages (from torchvision) (1.12.0)\n",
            "Requirement already satisfied: pillow>=4.1.1 in /usr/local/lib/python3.6/dist-packages (from torchvision) (4.3.0)\n",
            "Requirement already satisfied: olefile in /usr/local/lib/python3.6/dist-packages (from pillow>=4.1.1->torchvision) (0.46)\n"
          ],
          "name": "stdout"
        }
      ]
    },
    {
      "cell_type": "code",
      "metadata": {
        "id": "1erjV-kg1ioy",
        "colab_type": "code",
        "cellView": "both",
        "colab": {}
      },
      "source": [
        "#@title Import dependencies\n",
        "\n",
        "import torch\n",
        "import torch.nn as nn\n",
        "import torchvision.datasets as dsets\n",
        "import torchvision.transforms as transforms\n",
        "\n",
        "import csv\n",
        "from google.colab import files"
      ],
      "execution_count": 0,
      "outputs": []
    },
    {
      "cell_type": "code",
      "metadata": {
        "id": "eh3CXk8O1lYP",
        "colab_type": "code",
        "cellView": "both",
        "outputId": "29352aa9-2ca9-44b0-b10e-1fd85b089c8e",
        "colab": {
          "base_uri": "https://localhost:8080/",
          "height": 34
        }
      },
      "source": [
        "#@title Set hyperparameters\n",
        "\n",
        "num_classes = 20   # number of output classes discrete range [0,9]\n",
        "num_epochs  = 7    # number of times the entire dataset is presented to the model\n",
        "batch_size  = 64   # the size of input data took for one iteration\n",
        "lr          = 1e-3 # size of step\n",
        "\n",
        "device = torch.device(\"cuda:0\" if torch.cuda.is_available() else \"cpu\")\n",
        "print(device)"
      ],
      "execution_count": 0,
      "outputs": [
        {
          "output_type": "stream",
          "text": [
            "cuda:0\n"
          ],
          "name": "stdout"
        }
      ]
    },
    {
      "cell_type": "code",
      "metadata": {
        "id": "rPBQAAiH1pnG",
        "colab_type": "code",
        "cellView": "form",
        "colab": {}
      },
      "source": [
        "#@title Download CIFAR-10 and set up dataloaders\n",
        "\n",
        "transform = transforms.Compose(\n",
        "    [transforms.ToTensor(),\n",
        "     transforms.Normalize((0.4914, 0.4822, 0.4465), (0.2023, 0.1994, 0.2010))])\n",
        "\n",
        "train_data = dsets.CIFAR10(root='./data',\n",
        "                           train=True,\n",
        "                           transform=transform, download=True)\n",
        "\n",
        "test_data = dsets.CIFAR10(root='./data', train=False,\n",
        "                          transform=transform, download=True)\n",
        "\n",
        "train_gen = torch.utils.data.DataLoader(dataset=train_data,\n",
        "                                        batch_size=batch_size,\n",
        "                                        shuffle=True, num_workers=2)\n",
        "\n",
        "test_gen = torch.utils.data.DataLoader(dataset=test_data,\n",
        "                                       batch_size=batch_size, \n",
        "                                       shuffle=False, num_workers=2)"
      ],
      "execution_count": 0,
      "outputs": []
    },
    {
      "cell_type": "code",
      "metadata": {
        "id": "1zgsVXDf2CcB",
        "colab_type": "code",
        "outputId": "0f47b9de-35d9-4a2c-9bdb-a9177a37f856",
        "colab": {
          "base_uri": "https://localhost:8080/",
          "height": 68
        }
      },
      "source": [
        "#@title Download CIFAR-10 and set up dataloaders\n",
        "\n",
        "transform = transforms.Compose(\n",
        "    [transforms.ToTensor(),\n",
        "     transforms.Normalize((0.4914, 0.4822, 0.4465), (0.2023, 0.1994, 0.2010))])\n",
        "\n",
        "train_data = dsets.CIFAR10(root='./data',\n",
        "                           train=True,\n",
        "                           transform=transform, download=True)\n",
        "\n",
        "test_data = dsets.CIFAR10(root='./data', train=False,\n",
        "                          transform=transform, download=True)\n",
        "\n",
        "train_gen = torch.utils.data.DataLoader(dataset=train_data,\n",
        "                                        batch_size=batch_size,\n",
        "                                        shuffle=True, num_workers=2)\n",
        "\n",
        "test_gen = torch.utils.data.DataLoader(dataset=test_data,\n",
        "                                       batch_size=batch_size, \n",
        "                                       shuffle=False, num_workers=2)"
      ],
      "execution_count": 0,
      "outputs": [
        {
          "output_type": "stream",
          "text": [
            "\r0it [00:00, ?it/s]"
          ],
          "name": "stderr"
        },
        {
          "output_type": "stream",
          "text": [
            "Downloading https://www.cs.toronto.edu/~kriz/cifar-10-python.tar.gz to ./data/cifar-10-python.tar.gz\n"
          ],
          "name": "stdout"
        },
        {
          "output_type": "stream",
          "text": [
            "170500096it [00:02, 72452604.77it/s]                               \n"
          ],
          "name": "stderr"
        },
        {
          "output_type": "stream",
          "text": [
            "Files already downloaded and verified\n"
          ],
          "name": "stdout"
        }
      ]
    },
    {
      "cell_type": "code",
      "metadata": {
        "id": "JQS1nhnM2Ejx",
        "colab_type": "code",
        "cellView": "both",
        "outputId": "6659e58e-43fb-4a1f-87d3-b32f2d534669",
        "colab": {
          "base_uri": "https://localhost:8080/",
          "height": 204
        }
      },
      "source": [
        "#@title Define the model\n",
        "\n",
        "class Net(nn.Module):\n",
        "  def __init__(self, num_classes):\n",
        "    super(Net,self).__init__()\n",
        "    self.conv1 = nn.Conv2d(3, 32, 3)\n",
        "    self.pool = nn.MaxPool2d(2, 2)\n",
        "    self.conv2 = nn.Conv2d(32, 64, 3)\n",
        "    self.conv3 = nn.Conv2d(64, 128, 3)\n",
        "    self.fc1 = nn.Linear(128 * 2 * 2, 256)\n",
        "    self.fc2 = nn.Linear(256, 128)\n",
        "    self.fc3 = nn.Linear(128, num_classes)\n",
        "    self.relu = nn.ReLU()\n",
        "    self.dropout = nn.Dropout(0.1)\n",
        "  \n",
        "  def forward(self,x):\n",
        "    out = self.pool(self.relu(self.conv1(x)))\n",
        "    out = self.pool(self.relu(self.conv2(out)))\n",
        "    out = self.pool(self.relu(self.conv3(out)))\n",
        "    out = out.view(-1, 128 * 2 * 2)\n",
        "    out = self.dropout(self.relu(self.fc1(out)))\n",
        "    out = self.dropout(self.relu(self.fc2(out)))\n",
        "    out = self.fc3(out)\n",
        "    return out\n",
        "  \n",
        "#@title Build the model\n",
        "\n",
        "net = Net(num_classes)\n",
        "net.to(device)"
      ],
      "execution_count": 0,
      "outputs": [
        {
          "output_type": "execute_result",
          "data": {
            "text/plain": [
              "Net(\n",
              "  (conv1): Conv2d(3, 32, kernel_size=(3, 3), stride=(1, 1))\n",
              "  (pool): MaxPool2d(kernel_size=2, stride=2, padding=0, dilation=1, ceil_mode=False)\n",
              "  (conv2): Conv2d(32, 64, kernel_size=(3, 3), stride=(1, 1))\n",
              "  (conv3): Conv2d(64, 128, kernel_size=(3, 3), stride=(1, 1))\n",
              "  (fc1): Linear(in_features=512, out_features=256, bias=True)\n",
              "  (fc2): Linear(in_features=256, out_features=128, bias=True)\n",
              "  (fc3): Linear(in_features=128, out_features=20, bias=True)\n",
              "  (relu): ReLU()\n",
              "  (dropout): Dropout(p=0.1)\n",
              ")"
            ]
          },
          "metadata": {
            "tags": []
          },
          "execution_count": 20
        }
      ]
    },
    {
      "cell_type": "code",
      "metadata": {
        "id": "5IGRaDLw2F5_",
        "colab_type": "code",
        "cellView": "both",
        "colab": {}
      },
      "source": [
        "#@title Define loss function & optimizer\n",
        "\n",
        "loss_function = nn.CrossEntropyLoss()\n",
        "optimizer = torch.optim.Adam(net.parameters(), lr=lr)"
      ],
      "execution_count": 0,
      "outputs": []
    },
    {
      "cell_type": "code",
      "metadata": {
        "id": "g54EGFkA2Qan",
        "colab_type": "code",
        "outputId": "6667b3b0-ffb5-4a3d-c00c-0ec42a740bf2",
        "colab": {
          "base_uri": "https://localhost:8080/",
          "height": 850
        }
      },
      "source": [
        "#@title Train model\n",
        "\n",
        "net.train()\n",
        "for epoch in range(num_epochs):\n",
        "  for i, (images, labels) in enumerate(train_gen):\n",
        "    images, labels = images.to(device), labels.to(device)\n",
        "\n",
        "    optimizer.zero_grad()\n",
        "    outputs = net(images)\n",
        "\n",
        "    loss = loss_function(outputs, labels)\n",
        "    loss.backward()\n",
        "    optimizer.step()\n",
        "\n",
        "    if (i+1) % 100 == 0:\n",
        "      print('Epoch [%d/%d], Step [%d/%d], Loss: %.4f'\n",
        "                 %(epoch+1, num_epochs, i+1, len(train_data)//batch_size,\n",
        "                   loss.item()))"
      ],
      "execution_count": 0,
      "outputs": [
        {
          "output_type": "stream",
          "text": [
            "Epoch [1/7], Step [100/781], Loss: 1.9177\n",
            "Epoch [1/7], Step [200/781], Loss: 1.6724\n",
            "Epoch [1/7], Step [300/781], Loss: 1.7668\n",
            "Epoch [1/7], Step [400/781], Loss: 1.3830\n",
            "Epoch [1/7], Step [500/781], Loss: 1.4987\n",
            "Epoch [1/7], Step [600/781], Loss: 1.4230\n",
            "Epoch [1/7], Step [700/781], Loss: 1.2779\n",
            "Epoch [2/7], Step [100/781], Loss: 1.3062\n",
            "Epoch [2/7], Step [200/781], Loss: 1.3366\n",
            "Epoch [2/7], Step [300/781], Loss: 1.1073\n",
            "Epoch [2/7], Step [400/781], Loss: 1.0089\n",
            "Epoch [2/7], Step [500/781], Loss: 0.8900\n",
            "Epoch [2/7], Step [600/781], Loss: 0.9054\n",
            "Epoch [2/7], Step [700/781], Loss: 1.0329\n",
            "Epoch [3/7], Step [100/781], Loss: 0.9551\n",
            "Epoch [3/7], Step [200/781], Loss: 0.8093\n",
            "Epoch [3/7], Step [300/781], Loss: 0.9898\n",
            "Epoch [3/7], Step [400/781], Loss: 0.9180\n",
            "Epoch [3/7], Step [500/781], Loss: 0.8996\n",
            "Epoch [3/7], Step [600/781], Loss: 0.8583\n",
            "Epoch [3/7], Step [700/781], Loss: 1.0378\n",
            "Epoch [4/7], Step [100/781], Loss: 0.8013\n",
            "Epoch [4/7], Step [200/781], Loss: 0.9355\n",
            "Epoch [4/7], Step [300/781], Loss: 0.7963\n",
            "Epoch [4/7], Step [400/781], Loss: 0.7767\n",
            "Epoch [4/7], Step [500/781], Loss: 0.7449\n",
            "Epoch [4/7], Step [600/781], Loss: 0.7763\n",
            "Epoch [4/7], Step [700/781], Loss: 0.7673\n",
            "Epoch [5/7], Step [100/781], Loss: 0.6750\n",
            "Epoch [5/7], Step [200/781], Loss: 0.7439\n",
            "Epoch [5/7], Step [300/781], Loss: 0.5633\n",
            "Epoch [5/7], Step [400/781], Loss: 0.9134\n",
            "Epoch [5/7], Step [500/781], Loss: 0.7724\n",
            "Epoch [5/7], Step [600/781], Loss: 0.8736\n",
            "Epoch [5/7], Step [700/781], Loss: 0.7114\n",
            "Epoch [6/7], Step [100/781], Loss: 0.7721\n",
            "Epoch [6/7], Step [200/781], Loss: 0.3831\n",
            "Epoch [6/7], Step [300/781], Loss: 0.7416\n",
            "Epoch [6/7], Step [400/781], Loss: 0.5049\n",
            "Epoch [6/7], Step [500/781], Loss: 0.6861\n",
            "Epoch [6/7], Step [600/781], Loss: 0.8755\n",
            "Epoch [6/7], Step [700/781], Loss: 0.6614\n",
            "Epoch [7/7], Step [100/781], Loss: 0.5499\n",
            "Epoch [7/7], Step [200/781], Loss: 0.4766\n",
            "Epoch [7/7], Step [300/781], Loss: 0.4232\n",
            "Epoch [7/7], Step [400/781], Loss: 0.6240\n",
            "Epoch [7/7], Step [500/781], Loss: 0.3952\n",
            "Epoch [7/7], Step [600/781], Loss: 0.6246\n",
            "Epoch [7/7], Step [700/781], Loss: 0.5334\n"
          ],
          "name": "stdout"
        }
      ]
    },
    {
      "cell_type": "code",
      "metadata": {
        "id": "KO3RgIDq2I-4",
        "colab_type": "code",
        "colab": {}
      },
      "source": [
        "#@title Run model on test set and save predictions\n",
        "\n",
        "net.eval()\n",
        "predictions = []\n",
        "\n",
        "for images, _ in test_gen:\n",
        "  images = images.to(device)\n",
        "\n",
        "  output = net(images)\n",
        "  _, predicted = torch.max(output, 1)\n",
        "    \n",
        "  img_id_start = len(predictions) + 1\n",
        "  predictions += [{'image_id': img_id_start + x,\n",
        "                   'label': predicted[x].item()} for x in range(len(predicted))]\n",
        "\n",
        "with open('caliper_cifar10_test_predictions.csv', mode='w') as preds_file:\n",
        "    writer = csv.writer(preds_file, delimiter=',')\n",
        "    writer.writerow(['id','label'])\n",
        "    for el in predictions:\n",
        "        writer.writerow([el['image_id'], el['label']])\n",
        "    \n",
        "files.download('caliper_cifar10_test_predictions.csv')"
      ],
      "execution_count": 0,
      "outputs": []
    },
    {
      "cell_type": "code",
      "metadata": {
        "id": "RCh_bY0erxEg",
        "colab_type": "code",
        "cellView": "both",
        "outputId": "e982586b-5d19-411c-ea44-8b34246dda69",
        "colab": {
          "base_uri": "https://localhost:8080/",
          "height": 232
        }
      },
      "source": [
        "#@title Upload predictions to Caliper\n",
        "############################################################\n",
        "##            DON'T EDIT CODE IN THIS CELL                ##\n",
        "############################################################\n",
        "import requests\n",
        "\n",
        "if not (challenge_id and caliper_token):\n",
        "    print(\"Could not locate caliper credentials. Please submit through Caliper website.\")\n",
        "else:\n",
        "    submission_file = {'input_file': open('caliper_cifar10_test_predictions.csv','rb')}\n",
        "    hostname = \"https://caliper.ai\"\n",
        "    URL = \"{0}/api/jobs/challenge/{1}/challenge_phase/{2}/token/{3}/submission/\".format(hostname, challenge_id, phase_id, caliper_token)\n",
        "    data = {\"status\": \"submitting\"}\n",
        "    r = requests.post(URL, files=submission_file, data=data)\n",
        "    result = r.json()\n",
        "\n",
        "    if r.status_code == 201:\n",
        "        print(\"Predictions submitted successfully. File URL: \", result.get('input_file'))\n",
        "        print(\"Please go to {0}/web/challenges/{1}/submissions/phases/{2}/ to check the status of submission.\".format(hostname, challenge_id, phase_id))\n",
        "    else:\n",
        "        print(\"Some error occured. Please try submitting the file through {0}/web/challenges/{1}/submission\".format(hostname, challenge_id))\n",
        "############################################################\n",
        "##            DON'T EDIT CODE IN THIS CELL                ##\n",
        "############################################################"
      ],
      "execution_count": 0,
      "outputs": [
        {
          "output_type": "error",
          "ename": "NameError",
          "evalue": "ignored",
          "traceback": [
            "\u001b[0;31m---------------------------------------------------------------------------\u001b[0m",
            "\u001b[0;31mNameError\u001b[0m                                 Traceback (most recent call last)",
            "\u001b[0;32m<ipython-input-24-e7e93bbba9d9>\u001b[0m in \u001b[0;36m<module>\u001b[0;34m()\u001b[0m\n\u001b[1;32m      1\u001b[0m \u001b[0;32mimport\u001b[0m \u001b[0mrequests\u001b[0m\u001b[0;34m\u001b[0m\u001b[0;34m\u001b[0m\u001b[0m\n\u001b[1;32m      2\u001b[0m \u001b[0;34m\u001b[0m\u001b[0m\n\u001b[0;32m----> 3\u001b[0;31m \u001b[0;32mif\u001b[0m \u001b[0;32mnot\u001b[0m \u001b[0;34m(\u001b[0m\u001b[0mchallenge_id\u001b[0m \u001b[0;32mand\u001b[0m \u001b[0mcaliper_token\u001b[0m\u001b[0;34m)\u001b[0m\u001b[0;34m:\u001b[0m\u001b[0;34m\u001b[0m\u001b[0;34m\u001b[0m\u001b[0m\n\u001b[0m\u001b[1;32m      4\u001b[0m     \u001b[0mprint\u001b[0m\u001b[0;34m(\u001b[0m\u001b[0;34m\"Could not locate caliper credentials. Please submit through Caliper website.\"\u001b[0m\u001b[0;34m)\u001b[0m\u001b[0;34m\u001b[0m\u001b[0;34m\u001b[0m\u001b[0m\n\u001b[1;32m      5\u001b[0m \u001b[0;32melse\u001b[0m\u001b[0;34m:\u001b[0m\u001b[0;34m\u001b[0m\u001b[0;34m\u001b[0m\u001b[0m\n",
            "\u001b[0;31mNameError\u001b[0m: name 'challenge_id' is not defined"
          ]
        }
      ]
    },
    {
      "cell_type": "markdown",
      "metadata": {
        "id": "0RpO_cvbJNaL",
        "colab_type": "text"
      },
      "source": [
        "If the above does not download a predictions CSV file to your machine (known issue on Firefox):\n",
        "\n",
        "1. Go to View > Table of contents from topbar.\n",
        "1. A left sidebar will show up. Open the Files tab.\n",
        "1. Click Refresh.\n",
        "1. Right-click and download caliper_mnist_test_predictions.csv."
      ]
    }
  ]
}